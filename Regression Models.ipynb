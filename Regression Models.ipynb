{
 "cells": [
  {
   "cell_type": "markdown",
   "id": "190c37a8",
   "metadata": {
    "papermill": {
     "duration": 0.00697,
     "end_time": "2024-12-11T19:25:45.978327",
     "exception": false,
     "start_time": "2024-12-11T19:25:45.971357",
     "status": "completed"
    },
    "tags": []
   },
   "source": [
    "# Introduction"
   ]
  },
  {
   "cell_type": "markdown",
   "id": "3effef0a",
   "metadata": {
    "papermill": {
     "duration": 0.006141,
     "end_time": "2024-12-11T19:25:45.990726",
     "exception": false,
     "start_time": "2024-12-11T19:25:45.984585",
     "status": "completed"
    },
    "tags": []
   },
   "source": [
    "In this notebook I will explain the program I wrote for our second competiton. I used several methods to make the data given cleaner and better for using to train my model. I used single imputer to impute missing values and onehotencoder to transform categorical values to numerical ones. Then I used the training set to train four algoritms, compare each of them, and pick the model that gives a closer prediction to our target."
   ]
  },
  {
   "cell_type": "markdown",
   "id": "b6873127",
   "metadata": {
    "papermill": {
     "duration": 0.006114,
     "end_time": "2024-12-11T19:25:46.003066",
     "exception": false,
     "start_time": "2024-12-11T19:25:45.996952",
     "status": "completed"
    },
    "tags": []
   },
   "source": [
    "# Problem Understanding"
   ]
  },
  {
   "cell_type": "markdown",
   "id": "845009a6",
   "metadata": {
    "papermill": {
     "duration": 0.006146,
     "end_time": "2024-12-11T19:25:46.016645",
     "exception": false,
     "start_time": "2024-12-11T19:25:46.010499",
     "status": "completed"
    },
    "tags": []
   },
   "source": [
    "The objective of this project was to predict the target variable based on a syntetic train dataset. The dataset presented challenges such as missing values (null values) and mixed data types (non-numeric values), requiring robust preprocessing and feature engineering. The goal was to develop a reliable regression model that gave accurate predictions."
   ]
  },
  {
   "cell_type": "markdown",
   "id": "06ed6743",
   "metadata": {
    "papermill": {
     "duration": 0.006341,
     "end_time": "2024-12-11T19:25:46.029475",
     "exception": false,
     "start_time": "2024-12-11T19:25:46.023134",
     "status": "completed"
    },
    "tags": []
   },
   "source": [
    "The first thing that I did was to import all the libraries that will be necessary for me to move further. Then I created two dataframes called \"train\" and \"test\" which includes the data that is given to us to work on."
   ]
  },
  {
   "cell_type": "code",
   "execution_count": 1,
   "id": "d5b4a569",
   "metadata": {
    "_cell_guid": "b1076dfc-b9ad-4769-8c92-a6c4dae69d19",
    "_uuid": "8f2839f25d086af736a60e9eeb907d3b93b6e0e5",
    "execution": {
     "iopub.execute_input": "2024-12-11T19:25:46.044502Z",
     "iopub.status.busy": "2024-12-11T19:25:46.044094Z",
     "iopub.status.idle": "2024-12-11T19:25:49.356572Z",
     "shell.execute_reply": "2024-12-11T19:25:49.355631Z"
    },
    "papermill": {
     "duration": 3.323075,
     "end_time": "2024-12-11T19:25:49.359305",
     "exception": false,
     "start_time": "2024-12-11T19:25:46.036230",
     "status": "completed"
    },
    "tags": []
   },
   "outputs": [],
   "source": [
    "import pandas as pd\n",
    "import numpy as np\n",
    "from sklearn.impute import SimpleImputer\n",
    "from sklearn.preprocessing import OneHotEncoder, StandardScaler, PolynomialFeatures\n",
    "from sklearn.model_selection import train_test_split\n",
    "from sklearn.linear_model import LinearRegression\n",
    "from sklearn.svm import SVR\n",
    "from sklearn.metrics import mean_squared_error\n",
    "from sklearn.neural_network import MLPRegressor\n",
    "from xgboost import XGBRegressor\n",
    "# Load data\n",
    "train = pd.read_csv(r'/kaggle/input/math482-2024-2025-1-hw-03/train.csv')\n",
    "test = pd.read_csv(r'/kaggle/input/math482-2024-2025-1-hw-03/test.csv')\n",
    "\n",
    "\n"
   ]
  },
  {
   "cell_type": "markdown",
   "id": "c5425122",
   "metadata": {
    "papermill": {
     "duration": 0.005758,
     "end_time": "2024-12-11T19:25:49.371339",
     "exception": false,
     "start_time": "2024-12-11T19:25:49.365581",
     "status": "completed"
    },
    "tags": []
   },
   "source": [
    "# Exploratory Data Analysis"
   ]
  },
  {
   "cell_type": "markdown",
   "id": "3ff3bd02",
   "metadata": {
    "papermill": {
     "duration": 0.005749,
     "end_time": "2024-12-11T19:25:49.383272",
     "exception": false,
     "start_time": "2024-12-11T19:25:49.377523",
     "status": "completed"
    },
    "tags": []
   },
   "source": [
    "With the code below, I gained a general understanding of our dataset. Nearly all of our features have null variables which should be filled or dropped ,and the datatypes included are either a float or an object."
   ]
  },
  {
   "cell_type": "code",
   "execution_count": 2,
   "id": "589f349f",
   "metadata": {
    "execution": {
     "iopub.execute_input": "2024-12-11T19:25:49.397264Z",
     "iopub.status.busy": "2024-12-11T19:25:49.396838Z",
     "iopub.status.idle": "2024-12-11T19:25:49.531397Z",
     "shell.execute_reply": "2024-12-11T19:25:49.530120Z"
    },
    "papermill": {
     "duration": 0.144625,
     "end_time": "2024-12-11T19:25:49.533934",
     "exception": false,
     "start_time": "2024-12-11T19:25:49.389309",
     "status": "completed"
    },
    "tags": []
   },
   "outputs": [
    {
     "name": "stdout",
     "output_type": "stream",
     "text": [
      "<class 'pandas.core.frame.DataFrame'>\n",
      "RangeIndex: 30000 entries, 0 to 29999\n",
      "Data columns (total 23 columns):\n",
      " #   Column      Non-Null Count  Dtype  \n",
      "---  ------      --------------  -----  \n",
      " 0   id          30000 non-null  int64  \n",
      " 1   feature_01  27152 non-null  float64\n",
      " 2   feature_02  27136 non-null  float64\n",
      " 3   feature_03  27195 non-null  object \n",
      " 4   feature_04  27110 non-null  float64\n",
      " 5   feature_05  27130 non-null  float64\n",
      " 6   feature_06  27158 non-null  float64\n",
      " 7   feature_07  27170 non-null  object \n",
      " 8   feature_08  27120 non-null  float64\n",
      " 9   feature_09  27125 non-null  float64\n",
      " 10  feature_10  27093 non-null  float64\n",
      " 11  feature_11  27152 non-null  object \n",
      " 12  feature_12  27116 non-null  float64\n",
      " 13  feature_13  27146 non-null  float64\n",
      " 14  feature_14  30000 non-null  object \n",
      " 15  feature_15  27177 non-null  float64\n",
      " 16  feature_16  27137 non-null  object \n",
      " 17  feature_17  27153 non-null  float64\n",
      " 18  feature_18  27142 non-null  object \n",
      " 19  feature_19  27152 non-null  object \n",
      " 20  feature_20  27167 non-null  object \n",
      " 21  feature_21  27096 non-null  float64\n",
      " 22  target      30000 non-null  float64\n",
      "dtypes: float64(14), int64(1), object(8)\n",
      "memory usage: 5.3+ MB\n"
     ]
    },
    {
     "data": {
      "text/html": [
       "<div>\n",
       "<style scoped>\n",
       "    .dataframe tbody tr th:only-of-type {\n",
       "        vertical-align: middle;\n",
       "    }\n",
       "\n",
       "    .dataframe tbody tr th {\n",
       "        vertical-align: top;\n",
       "    }\n",
       "\n",
       "    .dataframe thead th {\n",
       "        text-align: right;\n",
       "    }\n",
       "</style>\n",
       "<table border=\"1\" class=\"dataframe\">\n",
       "  <thead>\n",
       "    <tr style=\"text-align: right;\">\n",
       "      <th></th>\n",
       "      <th>id</th>\n",
       "      <th>feature_01</th>\n",
       "      <th>feature_02</th>\n",
       "      <th>feature_03</th>\n",
       "      <th>feature_04</th>\n",
       "      <th>feature_05</th>\n",
       "      <th>feature_06</th>\n",
       "      <th>feature_07</th>\n",
       "      <th>feature_08</th>\n",
       "      <th>feature_09</th>\n",
       "      <th>...</th>\n",
       "      <th>feature_13</th>\n",
       "      <th>feature_14</th>\n",
       "      <th>feature_15</th>\n",
       "      <th>feature_16</th>\n",
       "      <th>feature_17</th>\n",
       "      <th>feature_18</th>\n",
       "      <th>feature_19</th>\n",
       "      <th>feature_20</th>\n",
       "      <th>feature_21</th>\n",
       "      <th>target</th>\n",
       "    </tr>\n",
       "  </thead>\n",
       "  <tbody>\n",
       "    <tr>\n",
       "      <th>0</th>\n",
       "      <td>1</td>\n",
       "      <td>43.71</td>\n",
       "      <td>-90.85</td>\n",
       "      <td>u</td>\n",
       "      <td>-28.35</td>\n",
       "      <td>0.20</td>\n",
       "      <td>0.24</td>\n",
       "      <td>B1</td>\n",
       "      <td>NaN</td>\n",
       "      <td>14.65</td>\n",
       "      <td>...</td>\n",
       "      <td>2.98</td>\n",
       "      <td>ij</td>\n",
       "      <td>5.29</td>\n",
       "      <td>C3</td>\n",
       "      <td>8.0</td>\n",
       "      <td>A2</td>\n",
       "      <td>ab</td>\n",
       "      <td>D4</td>\n",
       "      <td>654.69</td>\n",
       "      <td>357.98</td>\n",
       "    </tr>\n",
       "    <tr>\n",
       "      <th>1</th>\n",
       "      <td>2</td>\n",
       "      <td>95.56</td>\n",
       "      <td>-9.20</td>\n",
       "      <td>NaN</td>\n",
       "      <td>-14.07</td>\n",
       "      <td>0.91</td>\n",
       "      <td>0.04</td>\n",
       "      <td>B3</td>\n",
       "      <td>106.68</td>\n",
       "      <td>2.41</td>\n",
       "      <td>...</td>\n",
       "      <td>0.86</td>\n",
       "      <td>ij</td>\n",
       "      <td>-12.72</td>\n",
       "      <td>C1</td>\n",
       "      <td>6.0</td>\n",
       "      <td>A4</td>\n",
       "      <td>ac</td>\n",
       "      <td>D1</td>\n",
       "      <td>2.83</td>\n",
       "      <td>1103.49</td>\n",
       "    </tr>\n",
       "    <tr>\n",
       "      <th>2</th>\n",
       "      <td>3</td>\n",
       "      <td>75.88</td>\n",
       "      <td>NaN</td>\n",
       "      <td>u</td>\n",
       "      <td>-8.50</td>\n",
       "      <td>0.50</td>\n",
       "      <td>0.13</td>\n",
       "      <td>B3</td>\n",
       "      <td>70.79</td>\n",
       "      <td>3.10</td>\n",
       "      <td>...</td>\n",
       "      <td>7.83</td>\n",
       "      <td>ii</td>\n",
       "      <td>-3.47</td>\n",
       "      <td>C2</td>\n",
       "      <td>1.0</td>\n",
       "      <td>A5</td>\n",
       "      <td>ab</td>\n",
       "      <td>D1</td>\n",
       "      <td>312.83</td>\n",
       "      <td>501.38</td>\n",
       "    </tr>\n",
       "    <tr>\n",
       "      <th>3</th>\n",
       "      <td>4</td>\n",
       "      <td>63.88</td>\n",
       "      <td>NaN</td>\n",
       "      <td>q</td>\n",
       "      <td>NaN</td>\n",
       "      <td>3.07</td>\n",
       "      <td>0.36</td>\n",
       "      <td>B6</td>\n",
       "      <td>90.18</td>\n",
       "      <td>1.07</td>\n",
       "      <td>...</td>\n",
       "      <td>0.73</td>\n",
       "      <td>ji</td>\n",
       "      <td>31.65</td>\n",
       "      <td>C1</td>\n",
       "      <td>3.0</td>\n",
       "      <td>A8</td>\n",
       "      <td>ad</td>\n",
       "      <td>D1</td>\n",
       "      <td>1.99</td>\n",
       "      <td>1174.88</td>\n",
       "    </tr>\n",
       "    <tr>\n",
       "      <th>4</th>\n",
       "      <td>5</td>\n",
       "      <td>24.04</td>\n",
       "      <td>-41.22</td>\n",
       "      <td>t</td>\n",
       "      <td>-32.25</td>\n",
       "      <td>4.86</td>\n",
       "      <td>0.42</td>\n",
       "      <td>B5</td>\n",
       "      <td>119.19</td>\n",
       "      <td>8.07</td>\n",
       "      <td>...</td>\n",
       "      <td>1.12</td>\n",
       "      <td>jj</td>\n",
       "      <td>-12.25</td>\n",
       "      <td>NaN</td>\n",
       "      <td>5.0</td>\n",
       "      <td>A7</td>\n",
       "      <td>NaN</td>\n",
       "      <td>NaN</td>\n",
       "      <td>0.85</td>\n",
       "      <td>1350.99</td>\n",
       "    </tr>\n",
       "  </tbody>\n",
       "</table>\n",
       "<p>5 rows × 23 columns</p>\n",
       "</div>"
      ],
      "text/plain": [
       "   id  feature_01  feature_02 feature_03  feature_04  feature_05  feature_06  \\\n",
       "0   1       43.71      -90.85          u      -28.35        0.20        0.24   \n",
       "1   2       95.56       -9.20        NaN      -14.07        0.91        0.04   \n",
       "2   3       75.88         NaN          u       -8.50        0.50        0.13   \n",
       "3   4       63.88         NaN          q         NaN        3.07        0.36   \n",
       "4   5       24.04      -41.22          t      -32.25        4.86        0.42   \n",
       "\n",
       "  feature_07  feature_08  feature_09  ...  feature_13 feature_14  feature_15  \\\n",
       "0         B1         NaN       14.65  ...        2.98         ij        5.29   \n",
       "1         B3      106.68        2.41  ...        0.86         ij      -12.72   \n",
       "2         B3       70.79        3.10  ...        7.83         ii       -3.47   \n",
       "3         B6       90.18        1.07  ...        0.73         ji       31.65   \n",
       "4         B5      119.19        8.07  ...        1.12         jj      -12.25   \n",
       "\n",
       "   feature_16 feature_17  feature_18 feature_19  feature_20 feature_21  \\\n",
       "0          C3        8.0          A2         ab          D4     654.69   \n",
       "1          C1        6.0          A4         ac          D1       2.83   \n",
       "2          C2        1.0          A5         ab          D1     312.83   \n",
       "3          C1        3.0          A8         ad          D1       1.99   \n",
       "4         NaN        5.0          A7        NaN         NaN       0.85   \n",
       "\n",
       "    target  \n",
       "0   357.98  \n",
       "1  1103.49  \n",
       "2   501.38  \n",
       "3  1174.88  \n",
       "4  1350.99  \n",
       "\n",
       "[5 rows x 23 columns]"
      ]
     },
     "execution_count": 2,
     "metadata": {},
     "output_type": "execute_result"
    }
   ],
   "source": [
    "train.info()\n",
    "train.describe()\n",
    "train.head()\n"
   ]
  },
  {
   "cell_type": "markdown",
   "id": "7afc69ca",
   "metadata": {
    "papermill": {
     "duration": 0.006355,
     "end_time": "2024-12-11T19:25:49.547465",
     "exception": false,
     "start_time": "2024-12-11T19:25:49.541110",
     "status": "completed"
    },
    "tags": []
   },
   "source": [
    "After preparing my train X and train y by assigning columns without target to Xtrain, and the target column itself to y_train; I created a plot showing the Distribution of the target variable, indicating the how many times a certain target value occurs. "
   ]
  },
  {
   "cell_type": "code",
   "execution_count": 3,
   "id": "a5892c04",
   "metadata": {
    "execution": {
     "iopub.execute_input": "2024-12-11T19:25:49.562590Z",
     "iopub.status.busy": "2024-12-11T19:25:49.562160Z",
     "iopub.status.idle": "2024-12-11T19:25:50.718258Z",
     "shell.execute_reply": "2024-12-11T19:25:50.717017Z"
    },
    "papermill": {
     "duration": 1.166527,
     "end_time": "2024-12-11T19:25:50.720572",
     "exception": false,
     "start_time": "2024-12-11T19:25:49.554045",
     "status": "completed"
    },
    "tags": []
   },
   "outputs": [
    {
     "name": "stderr",
     "output_type": "stream",
     "text": [
      "/opt/conda/lib/python3.10/site-packages/seaborn/_oldcore.py:1119: FutureWarning: use_inf_as_na option is deprecated and will be removed in a future version. Convert inf values to NaN before operating instead.\n",
      "  with pd.option_context('mode.use_inf_as_na', True):\n"
     ]
    },
    {
     "data": {
      "image/png": "[encoded data removed]",
      "text/plain": [
       "<Figure size 640x480 with 1 Axes>"
      ]
     },
     "metadata": {},
     "output_type": "display_data"
    }
   ],
   "source": [
    "# Separate features and target\n",
    "target_column = \"target\"\n",
    "X_train_full = train.drop(columns=[target_column])\n",
    "y_train_full = train[target_column]\n",
    "X_test = test\n",
    "\n",
    "\n",
    "import seaborn as sns\n",
    "import matplotlib.pyplot as plt\n",
    "\n",
    "# Target distribution\n",
    "sns.histplot(y_train_full, kde=True)\n",
    "plt.title(\"Target Variable Distribution\")\n",
    "plt.show()\n",
    "\n",
    "\n"
   ]
  },
  {
   "cell_type": "markdown",
   "id": "911f93b3",
   "metadata": {
    "papermill": {
     "duration": 0.007099,
     "end_time": "2024-12-11T19:25:50.735530",
     "exception": false,
     "start_time": "2024-12-11T19:25:50.728431",
     "status": "completed"
    },
    "tags": []
   },
   "source": [
    "# Solution Approach"
   ]
  },
  {
   "cell_type": "markdown",
   "id": "ea8320bd",
   "metadata": {
    "papermill": {
     "duration": 0.006964,
     "end_time": "2024-12-11T19:25:50.749757",
     "exception": false,
     "start_time": "2024-12-11T19:25:50.742793",
     "status": "completed"
    },
    "tags": []
   },
   "source": [
    "## Preprocessing "
   ]
  },
  {
   "cell_type": "markdown",
   "id": "0ff75b64",
   "metadata": {
    "papermill": {
     "duration": 0.006956,
     "end_time": "2024-12-11T19:25:50.764007",
     "exception": false,
     "start_time": "2024-12-11T19:25:50.757051",
     "status": "completed"
    },
    "tags": []
   },
   "source": [
    "I used SimpleImputer to impute missing values. The most frequent value (mode) was used for categorical features, while the median was used for numerical features."
   ]
  },
  {
   "cell_type": "code",
   "execution_count": 4,
   "id": "49e1490d",
   "metadata": {
    "execution": {
     "iopub.execute_input": "2024-12-11T19:25:50.780237Z",
     "iopub.status.busy": "2024-12-11T19:25:50.779624Z",
     "iopub.status.idle": "2024-12-11T19:25:50.932380Z",
     "shell.execute_reply": "2024-12-11T19:25:50.931191Z"
    },
    "papermill": {
     "duration": 0.163566,
     "end_time": "2024-12-11T19:25:50.934821",
     "exception": false,
     "start_time": "2024-12-11T19:25:50.771255",
     "status": "completed"
    },
    "tags": []
   },
   "outputs": [
    {
     "name": "stdout",
     "output_type": "stream",
     "text": [
      "Index(['id', 'feature_01', 'feature_02', 'feature_04', 'feature_05',\n",
      "       'feature_06', 'feature_08', 'feature_09', 'feature_10', 'feature_12',\n",
      "       'feature_13', 'feature_15', 'feature_17', 'feature_21'],\n",
      "      dtype='object')\n"
     ]
    }
   ],
   "source": [
    "\n",
    "# Preprocessing\n",
    "# Handle categorical columns\n",
    "categorical_columns = X_train_full.select_dtypes(include=['object']).columns\n",
    "imputer_cat = SimpleImputer(strategy='most_frequent')\n",
    "X_train_full[categorical_columns] = imputer_cat.fit_transform(X_train_full[categorical_columns])\n",
    "X_test[categorical_columns] = imputer_cat.transform(X_test[categorical_columns])\n",
    "\n",
    "# Handle numerical columns\n",
    "numerical_columns = X_train_full.select_dtypes(exclude=['object']).columns\n",
    "imputer_num = SimpleImputer(strategy='median')\n",
    "X_train_full[numerical_columns] = imputer_num.fit_transform(X_train_full[numerical_columns])\n",
    "X_test[numerical_columns] = imputer_num.transform(X_test[numerical_columns])\n",
    "print(numerical_columns)"
   ]
  },
  {
   "cell_type": "markdown",
   "id": "16878fc6",
   "metadata": {
    "papermill": {
     "duration": 0.007153,
     "end_time": "2024-12-11T19:25:50.949212",
     "exception": false,
     "start_time": "2024-12-11T19:25:50.942059",
     "status": "completed"
    },
    "tags": []
   },
   "source": [
    "And now that I have the columns that have the float datatype, I wanted to see if there are any outliers that should be discluded from the training data. I used Z-score to understand this below. It ended up showing there are no significant outliers."
   ]
  },
  {
   "cell_type": "code",
   "execution_count": 5,
   "id": "0983f430",
   "metadata": {
    "execution": {
     "iopub.execute_input": "2024-12-11T19:25:50.965471Z",
     "iopub.status.busy": "2024-12-11T19:25:50.965082Z",
     "iopub.status.idle": "2024-12-11T19:25:51.001932Z",
     "shell.execute_reply": "2024-12-11T19:25:51.000412Z"
    },
    "papermill": {
     "duration": 0.048182,
     "end_time": "2024-12-11T19:25:51.004716",
     "exception": false,
     "start_time": "2024-12-11T19:25:50.956534",
     "status": "completed"
    },
    "tags": []
   },
   "outputs": [
    {
     "name": "stdout",
     "output_type": "stream",
     "text": [
      "id            0\n",
      "feature_01    0\n",
      "feature_02    0\n",
      "feature_04    0\n",
      "feature_05    0\n",
      "feature_06    0\n",
      "feature_08    0\n",
      "feature_09    0\n",
      "feature_10    0\n",
      "feature_12    0\n",
      "feature_13    0\n",
      "feature_15    0\n",
      "feature_17    0\n",
      "feature_21    0\n",
      "dtype: int64\n"
     ]
    }
   ],
   "source": [
    "from scipy.stats import zscore\n",
    "z_scores = train[numerical_columns].apply(zscore)\n",
    "\n",
    "# Check for values with Z-scores greater than 3 or less than -3\n",
    "outliers = (z_scores > 3) | (z_scores < -3)\n",
    "outliers_sum = outliers.sum()\n",
    "print(outliers_sum)"
   ]
  },
  {
   "cell_type": "markdown",
   "id": "6b74037b",
   "metadata": {
    "papermill": {
     "duration": 0.007513,
     "end_time": "2024-12-11T19:25:51.020312",
     "exception": false,
     "start_time": "2024-12-11T19:25:51.012799",
     "status": "completed"
    },
    "tags": []
   },
   "source": [
    "I applied OneHotEncoder to transform categorical features into numerical form, ensuring compatibility with machine learning models. The first category was dropped to avoid multicollinearity."
   ]
  },
  {
   "cell_type": "code",
   "execution_count": 6,
   "id": "dc52807b",
   "metadata": {
    "execution": {
     "iopub.execute_input": "2024-12-11T19:25:51.036934Z",
     "iopub.status.busy": "2024-12-11T19:25:51.036519Z",
     "iopub.status.idle": "2024-12-11T19:25:51.200705Z",
     "shell.execute_reply": "2024-12-11T19:25:51.199516Z"
    },
    "papermill": {
     "duration": 0.175239,
     "end_time": "2024-12-11T19:25:51.203140",
     "exception": false,
     "start_time": "2024-12-11T19:25:51.027901",
     "status": "completed"
    },
    "tags": []
   },
   "outputs": [],
   "source": [
    "\n",
    "# OneHotEncode categorical columns\n",
    "encoder = OneHotEncoder(handle_unknown='ignore', sparse_output=False, drop='first')\n",
    "X_train_encoded = encoder.fit_transform(X_train_full[categorical_columns])\n",
    "X_test_encoded = encoder.transform(X_test[categorical_columns])\n",
    "\n",
    "X_train_full = pd.concat([X_train_full.reset_index(drop=True), \n",
    "                          pd.DataFrame(X_train_encoded, columns=encoder.get_feature_names_out(categorical_columns))], axis=1)\n",
    "X_test = pd.concat([X_test.reset_index(drop=True), \n",
    "                    pd.DataFrame(X_test_encoded, columns=encoder.get_feature_names_out(categorical_columns))], axis=1)\n"
   ]
  },
  {
   "cell_type": "markdown",
   "id": "03d809a0",
   "metadata": {
    "papermill": {
     "duration": 0.007148,
     "end_time": "2024-12-11T19:25:51.217812",
     "exception": false,
     "start_time": "2024-12-11T19:25:51.210664",
     "status": "completed"
    },
    "tags": []
   },
   "source": [
    "With the categorical column data are transformed into numerical values, I can safely drop the categorical columns without loosing information (eliminating object datatypes).\n",
    "I created a heatmap and graph to understand the correlation between the numerical columns and target values in the upcoming code sections. From the data I gathered from those plots I decided on dropping 4 least correlated features from the full X train and test data.\n",
    "Then I splitted my train data into train and test data to be able to check the accuracy rates of different models.\n"
   ]
  },
  {
   "cell_type": "code",
   "execution_count": 7,
   "id": "7894ab4c",
   "metadata": {
    "execution": {
     "iopub.execute_input": "2024-12-11T19:25:51.234311Z",
     "iopub.status.busy": "2024-12-11T19:25:51.233858Z",
     "iopub.status.idle": "2024-12-11T19:25:51.285758Z",
     "shell.execute_reply": "2024-12-11T19:25:51.284000Z"
    },
    "papermill": {
     "duration": 0.063883,
     "end_time": "2024-12-11T19:25:51.289186",
     "exception": false,
     "start_time": "2024-12-11T19:25:51.225303",
     "status": "completed"
    },
    "tags": []
   },
   "outputs": [],
   "source": [
    "\n",
    "X_train_full.drop(columns=categorical_columns, inplace=True)\n",
    "X_test.drop(columns=categorical_columns, inplace=True)\n",
    "\n",
    "# Align columns\n",
    "X_test = X_test.reindex(columns=X_train_full.columns, fill_value=0)\n",
    "\n",
    "columnstodrop = ['feature_01', 'feature_06', 'feature_17', 'feature_21']\n",
    "X_train_full.drop(columns=columnstodrop, inplace=True)\n",
    "X_test.drop(columns=columnstodrop, inplace=True)\n",
    "\n",
    "# Split into training and validation sets\n",
    "X_train, X_val, y_train, y_val = train_test_split(X_train_full, y_train_full, test_size=0.2, random_state=42)\n",
    "\n"
   ]
  },
  {
   "cell_type": "markdown",
   "id": "4846863c",
   "metadata": {
    "papermill": {
     "duration": 0.00766,
     "end_time": "2024-12-11T19:25:51.305819",
     "exception": false,
     "start_time": "2024-12-11T19:25:51.298159",
     "status": "completed"
    },
    "tags": []
   },
   "source": [
    "As indicated above, I wanted to see how the numerical columns were correlated with the target variables. To see those correlations I created a heatmap with the below code."
   ]
  },
  {
   "cell_type": "code",
   "execution_count": 8,
   "id": "201fa16a",
   "metadata": {
    "execution": {
     "iopub.execute_input": "2024-12-11T19:25:51.328537Z",
     "iopub.status.busy": "2024-12-11T19:25:51.328140Z",
     "iopub.status.idle": "2024-12-11T19:25:52.154306Z",
     "shell.execute_reply": "2024-12-11T19:25:52.153105Z"
    },
    "papermill": {
     "duration": 0.838645,
     "end_time": "2024-12-11T19:25:52.157103",
     "exception": false,
     "start_time": "2024-12-11T19:25:51.318458",
     "status": "completed"
    },
    "tags": []
   },
   "outputs": [
    {
     "data": {
      "image/png": "[encoded data removed]",
      "text/plain": [
       "<Figure size 640x480 with 2 Axes>"
      ]
     },
     "metadata": {},
     "output_type": "display_data"
    }
   ],
   "source": [
    "# Ensure numerical_columns is a list of column names\n",
    "numerical_columns = ['feature_01', 'feature_02', 'feature_04', 'feature_05', 'feature_06', 'feature_08', 'feature_09', 'feature_10', 'feature_12', 'feature_13', 'feature_15', 'feature_17', 'feature_21']\n",
    "\n",
    "# Define the target column\n",
    "target_column = 'target'\n",
    "\n",
    "# Combine numerical columns with the target column\n",
    "columns_for_correlation = numerical_columns + [target_column]\n",
    "\n",
    "# Verify that these columns exist in the DataFrame\n",
    "missing_columns = [col for col in columns_for_correlation if col not in train.columns]\n",
    "if missing_columns:\n",
    "    print(f\"Warning: The following columns are missing in the DataFrame: {missing_columns}\")\n",
    "else:\n",
    "    # Compute the correlation matrix\n",
    "    correlation_matrix = train[columns_for_correlation].corr()\n",
    "\n",
    "    # Plot the heatmap\n",
    "    sns.heatmap(correlation_matrix, annot=True, fmt=\".2f\", cmap=\"coolwarm\")\n",
    "    plt.title(\"Correlation Heatmap\")\n",
    "    plt.show()"
   ]
  },
  {
   "cell_type": "markdown",
   "id": "90adf77b",
   "metadata": {
    "papermill": {
     "duration": 0.008576,
     "end_time": "2024-12-11T19:25:52.175797",
     "exception": false,
     "start_time": "2024-12-11T19:25:52.167221",
     "status": "completed"
    },
    "tags": []
   },
   "source": [
    "After the table created , I also wanted to see the correlation values in reducing order in a figure plot, to get a clearer picture."
   ]
  },
  {
   "cell_type": "code",
   "execution_count": 9,
   "id": "007a6531",
   "metadata": {
    "execution": {
     "iopub.execute_input": "2024-12-11T19:25:52.195899Z",
     "iopub.status.busy": "2024-12-11T19:25:52.195461Z",
     "iopub.status.idle": "2024-12-11T19:25:52.639977Z",
     "shell.execute_reply": "2024-12-11T19:25:52.638821Z"
    },
    "papermill": {
     "duration": 0.457058,
     "end_time": "2024-12-11T19:25:52.642172",
     "exception": false,
     "start_time": "2024-12-11T19:25:52.185114",
     "status": "completed"
    },
    "tags": []
   },
   "outputs": [
    {
     "data": {
      "image/png": "[encoded data removed]",
      "text/plain": [
       "<Figure size 1000x600 with 1 Axes>"
      ]
     },
     "metadata": {},
     "output_type": "display_data"
    }
   ],
   "source": [
    "# Calculate correlations\n",
    "correlation = train[columns_for_correlation].corrwith(y_train_full)\n",
    "\n",
    "# Create a DataFrame for visualization\n",
    "correlation_df = correlation.sort_values(ascending=False).reset_index()\n",
    "correlation_df.columns = ['Feature', 'Correlation']\n",
    "\n",
    "# Plot\n",
    "plt.figure(figsize=(10, 6))\n",
    "plt.barh(correlation_df['Feature'], correlation_df['Correlation'], color='coral')\n",
    "plt.gca().invert_yaxis()  # Highest correlation at the top\n",
    "plt.xlabel('Correlation with Target')\n",
    "plt.ylabel('Features')\n",
    "plt.title('Feature Correlation with Target')\n",
    "plt.show()"
   ]
  },
  {
   "cell_type": "markdown",
   "id": "a95d8afe",
   "metadata": {
    "papermill": {
     "duration": 0.00948,
     "end_time": "2024-12-11T19:25:52.661490",
     "exception": false,
     "start_time": "2024-12-11T19:25:52.652010",
     "status": "completed"
    },
    "tags": []
   },
   "source": [
    "With the help of both the correlation matrix and the figure plot, I can see that most of the numerical features does not have a great effect on the target value that I am trying to interpret. But when I drop out a huge part of the train data I lose accuracy so I went on with dropping the least significant 4 features. "
   ]
  },
  {
   "cell_type": "markdown",
   "id": "f2a45706",
   "metadata": {
    "papermill": {
     "duration": 0.009424,
     "end_time": "2024-12-11T19:25:52.680856",
     "exception": false,
     "start_time": "2024-12-11T19:25:52.671432",
     "status": "completed"
    },
    "tags": []
   },
   "source": [
    "I applied StandardScaler to standardize numerical features, particularly for models sensitive to feature scaling."
   ]
  },
  {
   "cell_type": "code",
   "execution_count": 10,
   "id": "6fea0f71",
   "metadata": {
    "execution": {
     "iopub.execute_input": "2024-12-11T19:25:52.702015Z",
     "iopub.status.busy": "2024-12-11T19:25:52.701572Z",
     "iopub.status.idle": "2024-12-11T19:25:52.777216Z",
     "shell.execute_reply": "2024-12-11T19:25:52.775644Z"
    },
    "papermill": {
     "duration": 0.08937,
     "end_time": "2024-12-11T19:25:52.779822",
     "exception": false,
     "start_time": "2024-12-11T19:25:52.690452",
     "status": "completed"
    },
    "tags": []
   },
   "outputs": [],
   "source": [
    "# Scale features for models that are sensitive to scaling\n",
    "scaler = StandardScaler()\n",
    "X_train_scaled = scaler.fit_transform(X_train)\n",
    "X_val_scaled = scaler.transform(X_val)\n",
    "X_test_scaled = scaler.transform(X_test)\n",
    "X_train_full_scaled = scaler.fit_transform(X_train_full)"
   ]
  },
  {
   "cell_type": "markdown",
   "id": "8e36211f",
   "metadata": {
    "papermill": {
     "duration": 0.009349,
     "end_time": "2024-12-11T19:25:52.798851",
     "exception": false,
     "start_time": "2024-12-11T19:25:52.789502",
     "status": "completed"
    },
    "tags": []
   },
   "source": [
    "## Training Models "
   ]
  },
  {
   "cell_type": "markdown",
   "id": "fe51ffcc",
   "metadata": {
    "papermill": {
     "duration": 0.009982,
     "end_time": "2024-12-11T19:25:52.818547",
     "exception": false,
     "start_time": "2024-12-11T19:25:52.808565",
     "status": "completed"
    },
    "tags": []
   },
   "source": [
    "I created 4 models based on what we are required to compare for this homework. For Support Vector Regressor I used gridsearch to find out the gamma variable giving the best accuracy is 'scale' and the kernel is 'linear', I tried C = 3 ,5 ,10 and found out that 5 was the value superior. Then for the Neural Network I used 4 layers with sizes 16,8,4,2 in my final model. Since 1000 iterations were not enough for resolution I increased it to 1500. "
   ]
  },
  {
   "cell_type": "code",
   "execution_count": 11,
   "id": "3e812427",
   "metadata": {
    "execution": {
     "iopub.execute_input": "2024-12-11T19:25:52.840011Z",
     "iopub.status.busy": "2024-12-11T19:25:52.839596Z",
     "iopub.status.idle": "2024-12-11T19:25:52.845915Z",
     "shell.execute_reply": "2024-12-11T19:25:52.844554Z"
    },
    "papermill": {
     "duration": 0.020145,
     "end_time": "2024-12-11T19:25:52.848338",
     "exception": false,
     "start_time": "2024-12-11T19:25:52.828193",
     "status": "completed"
    },
    "tags": []
   },
   "outputs": [],
   "source": [
    "\n",
    "# Initialize models\n",
    "models = {\n",
    "    \"Linear Regression\": LinearRegression(),\n",
    "    \"Polynomial Regression\": None,  # Will handle separately\n",
    "    \"SVR\": SVR(kernel='linear', C=5, gamma='scale'),\n",
    "    \"Neural Network\": MLPRegressor(hidden_layer_sizes=(16,8,4,2), activation='relu', solver='adam', max_iter=1500, random_state=42)\n",
    "    \n",
    "}"
   ]
  },
  {
   "cell_type": "markdown",
   "id": "44ac1acc",
   "metadata": {
    "papermill": {
     "duration": 0.009544,
     "end_time": "2024-12-11T19:25:52.867637",
     "exception": false,
     "start_time": "2024-12-11T19:25:52.858093",
     "status": "completed"
    },
    "tags": []
   },
   "source": [
    "In polynommial regression having the degree as 3 made the model overfit and the error got significantly larger along with the runtime , so I took degree as 2. With the code below I was able to see and compare the Mean Squared Error's of my models.  "
   ]
  },
  {
   "cell_type": "code",
   "execution_count": 12,
   "id": "e87080de",
   "metadata": {
    "execution": {
     "iopub.execute_input": "2024-12-11T19:25:52.889829Z",
     "iopub.status.busy": "2024-12-11T19:25:52.889364Z",
     "iopub.status.idle": "2024-12-11T19:30:20.651306Z",
     "shell.execute_reply": "2024-12-11T19:30:20.648757Z"
    },
    "papermill": {
     "duration": 267.802375,
     "end_time": "2024-12-11T19:30:20.680411",
     "exception": false,
     "start_time": "2024-12-11T19:25:52.878036",
     "status": "completed"
    },
    "tags": []
   },
   "outputs": [
    {
     "name": "stdout",
     "output_type": "stream",
     "text": [
      "Model Performance:\n",
      "                           Train MSE  Validation MSE\n",
      "Linear Regression      422227.952318   427352.594468\n",
      "Polynomial Regression  396617.390307   436590.666601\n",
      "SVR                    422979.646396   428689.907853\n",
      "Neural Network         412060.491466   430029.194332\n"
     ]
    }
   ],
   "source": [
    "\n",
    "# Train and evaluate models\n",
    "results = {}\n",
    "for model_name, model in models.items():\n",
    "    if model_name == \"Polynomial Regression\":\n",
    "        poly = PolynomialFeatures(degree=2, include_bias=False)\n",
    "        X_train_poly = poly.fit_transform(X_train_scaled)\n",
    "        X_val_poly = poly.transform(X_val_scaled)\n",
    "        \n",
    "        poly_model = LinearRegression()\n",
    "        poly_model.fit(X_train_poly, y_train)\n",
    "        \n",
    "        y_train_pred = poly_model.predict(X_train_poly)\n",
    "        y_val_pred = poly_model.predict(X_val_poly)\n",
    "    else:\n",
    "        model.fit(X_train_scaled, y_train)\n",
    "        y_train_pred = model.predict(X_train_scaled)\n",
    "        y_val_pred = model.predict(X_val_scaled)\n",
    "    \n",
    "    # Calculate RMSE for training and validation\n",
    "    train_mse = mean_squared_error(y_train, y_train_pred)\n",
    "    val_mse = mean_squared_error(y_val, y_val_pred)\n",
    "    \n",
    "    results[model_name] = {\n",
    "        \"Train MSE\": train_mse,\n",
    "        \"Validation MSE\": val_mse\n",
    "    }\n",
    "    \n",
    "# Display results\n",
    "results_df = pd.DataFrame(results).T\n",
    "print(\"Model Performance:\")\n",
    "print(results_df)\n"
   ]
  },
  {
   "cell_type": "markdown",
   "id": "2b43aff3",
   "metadata": {
    "papermill": {
     "duration": 0.025757,
     "end_time": "2024-12-11T19:30:20.732282",
     "exception": false,
     "start_time": "2024-12-11T19:30:20.706525",
     "status": "completed"
    },
    "tags": []
   },
   "source": [
    "# Results Interpretation"
   ]
  },
  {
   "cell_type": "markdown",
   "id": "d3f3cca3",
   "metadata": {
    "papermill": {
     "duration": 0.009841,
     "end_time": "2024-12-11T19:30:20.767915",
     "exception": false,
     "start_time": "2024-12-11T19:30:20.758074",
     "status": "completed"
    },
    "tags": []
   },
   "source": [
    "The results of the models are pretty close. The linear regression seems to give more accurate result without the issue of overfitting. Increasing the degree of polynomial regression gave the best train MSE but overfit so the validation error was way higher. Feature Engineering for SVR made it's validation MSE close to linear regression but a close 2nd. With all those in mind I chose my final model to be the Linear Regression model that I've created.  "
   ]
  },
  {
   "cell_type": "code",
   "execution_count": 13,
   "id": "326ba7d5",
   "metadata": {
    "execution": {
     "iopub.execute_input": "2024-12-11T19:30:20.789323Z",
     "iopub.status.busy": "2024-12-11T19:30:20.788957Z",
     "iopub.status.idle": "2024-12-11T19:30:20.964314Z",
     "shell.execute_reply": "2024-12-11T19:30:20.961568Z"
    },
    "papermill": {
     "duration": 0.193438,
     "end_time": "2024-12-11T19:30:20.971122",
     "exception": false,
     "start_time": "2024-12-11T19:30:20.777684",
     "status": "completed"
    },
    "tags": []
   },
   "outputs": [],
   "source": [
    "\n",
    "chosen_model = models[\"Linear Regression\"]\n",
    "chosen_model.fit(X_train_full, y_train_full)\n",
    "\n",
    "y_test_pred = chosen_model.predict(X_test)\n",
    "\n",
    "# Save predictions to CSV\n",
    "submission = pd.DataFrame({'id': range(30001, len(y_test_pred) + 30001), 'target': y_test_pred})\n",
    "submission.to_csv('submission.csv', index=False)\n"
   ]
  },
  {
   "cell_type": "markdown",
   "id": "159e5429",
   "metadata": {
    "papermill": {
     "duration": 0.009899,
     "end_time": "2024-12-11T19:30:20.995887",
     "exception": false,
     "start_time": "2024-12-11T19:30:20.985988",
     "status": "completed"
    },
    "tags": []
   },
   "source": [
    "# Conclusion"
   ]
  },
  {
   "cell_type": "markdown",
   "id": "4cbf6a97",
   "metadata": {
    "papermill": {
     "duration": 0.009672,
     "end_time": "2024-12-11T19:30:21.016270",
     "exception": false,
     "start_time": "2024-12-11T19:30:21.006598",
     "status": "completed"
    },
    "tags": []
   },
   "source": [
    "In this notebook, I started by analyzing the 'train' dataset and creating plots and histograms to explore the data. I then eliminated the null spaces in the dataset, converted the categorical columns to numerical ones ,looked if there were any outliers to exclude and dropped out the insignificant features. To generate an accurate prediction, I trained 4 regression models on the refined data. As my final model I used the Linear Regression Model since it gave superior predictions on my train test set."
   ]
  }
 ],
 "metadata": {
  "kaggle": {
   "accelerator": "none",
   "dataSources": [
    {
     "databundleVersionId": 10297209,
     "sourceId": 89393,
     "sourceType": "competition"
    }
   ],
   "dockerImageVersionId": 30804,
   "isGpuEnabled": false,
   "isInternetEnabled": true,
   "language": "python",
   "sourceType": "notebook"
  },
  "kernelspec": {
   "display_name": "Python 3",
   "language": "python",
   "name": "python3"
  },
  "language_info": {
   "codemirror_mode": {
    "name": "ipython",
    "version": 3
   },
   "file_extension": ".py",
   "mimetype": "text/x-python",
   "name": "python",
   "nbconvert_exporter": "python",
   "pygments_lexer": "ipython3",
   "version": "3.10.14"
  },
  "papermill": {
   "default_parameters": {},
   "duration": 278.838239,
   "end_time": "2024-12-11T19:30:21.850420",
   "environment_variables": {},
   "exception": null,
   "input_path": "__notebook__.ipynb",
   "output_path": "__notebook__.ipynb",
   "parameters": {},
   "start_time": "2024-12-11T19:25:43.012181",
   "version": "2.6.0"
  }
 },
 "nbformat": 4,
 "nbformat_minor": 5
}
